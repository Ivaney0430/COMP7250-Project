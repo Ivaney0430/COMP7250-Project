{
 "cells": [
  {
   "cell_type": "markdown",
   "metadata": {
    "id": "PhGZSBl1E2eJ"
   },
   "source": [
    "### Import library"
   ]
  },
  {
   "cell_type": "code",
   "execution_count": 1,
   "metadata": {},
   "outputs": [
    {
     "name": "stdout",
     "output_type": "stream",
     "text": [
      "Requirement already satisfied: torch in /usr/local/lib/python3.10/site-packages (2.6.0)\n",
      "Requirement already satisfied: torchvision in /usr/local/lib/python3.10/site-packages (0.21.0)\n",
      "Requirement already satisfied: torchinfo in /usr/local/lib/python3.10/site-packages (1.8.0)\n",
      "Requirement already satisfied: matplotlib in /usr/local/lib/python3.10/site-packages (3.10.1)\n",
      "Requirement already satisfied: scikit-learn in /usr/local/lib/python3.10/site-packages (1.6.1)\n",
      "Requirement already satisfied: pandas in /usr/local/lib/python3.10/site-packages (2.0.3)\n",
      "Requirement already satisfied: numpy==1.23 in /usr/local/lib/python3.10/site-packages (1.23.0)\n",
      "Requirement already satisfied: filelock in /usr/local/lib/python3.10/site-packages (from torch) (3.18.0)\n",
      "Requirement already satisfied: typing-extensions>=4.10.0 in /usr/local/lib/python3.10/site-packages (from torch) (4.13.2)\n",
      "Requirement already satisfied: networkx in /usr/local/lib/python3.10/site-packages (from torch) (3.4.2)\n",
      "Requirement already satisfied: jinja2 in /usr/local/lib/python3.10/site-packages (from torch) (3.1.6)\n",
      "Requirement already satisfied: fsspec in /usr/local/lib/python3.10/site-packages (from torch) (2025.3.2)\n",
      "Requirement already satisfied: nvidia-cuda-nvrtc-cu12==12.4.127 in /usr/local/lib/python3.10/site-packages (from torch) (12.4.127)\n",
      "Requirement already satisfied: nvidia-cuda-runtime-cu12==12.4.127 in /usr/local/lib/python3.10/site-packages (from torch) (12.4.127)\n",
      "Requirement already satisfied: nvidia-cuda-cupti-cu12==12.4.127 in /usr/local/lib/python3.10/site-packages (from torch) (12.4.127)\n",
      "Requirement already satisfied: nvidia-cudnn-cu12==9.1.0.70 in /usr/local/lib/python3.10/site-packages (from torch) (9.1.0.70)\n",
      "Requirement already satisfied: nvidia-cublas-cu12==12.4.5.8 in /usr/local/lib/python3.10/site-packages (from torch) (12.4.5.8)\n",
      "Requirement already satisfied: nvidia-cufft-cu12==11.2.1.3 in /usr/local/lib/python3.10/site-packages (from torch) (11.2.1.3)\n",
      "Requirement already satisfied: nvidia-curand-cu12==10.3.5.147 in /usr/local/lib/python3.10/site-packages (from torch) (10.3.5.147)\n",
      "Requirement already satisfied: nvidia-cusolver-cu12==11.6.1.9 in /usr/local/lib/python3.10/site-packages (from torch) (11.6.1.9)\n",
      "Requirement already satisfied: nvidia-cusparse-cu12==12.3.1.170 in /usr/local/lib/python3.10/site-packages (from torch) (12.3.1.170)\n",
      "Requirement already satisfied: nvidia-cusparselt-cu12==0.6.2 in /usr/local/lib/python3.10/site-packages (from torch) (0.6.2)\n",
      "Requirement already satisfied: nvidia-nccl-cu12==2.21.5 in /usr/local/lib/python3.10/site-packages (from torch) (2.21.5)\n",
      "Requirement already satisfied: nvidia-nvtx-cu12==12.4.127 in /usr/local/lib/python3.10/site-packages (from torch) (12.4.127)\n",
      "Requirement already satisfied: nvidia-nvjitlink-cu12==12.4.127 in /usr/local/lib/python3.10/site-packages (from torch) (12.4.127)\n",
      "Requirement already satisfied: triton==3.2.0 in /usr/local/lib/python3.10/site-packages (from torch) (3.2.0)\n",
      "Requirement already satisfied: sympy==1.13.1 in /usr/local/lib/python3.10/site-packages (from torch) (1.13.1)\n",
      "Requirement already satisfied: mpmath<1.4,>=1.1.0 in /usr/local/lib/python3.10/site-packages (from sympy==1.13.1->torch) (1.3.0)\n",
      "Requirement already satisfied: pillow!=8.3.*,>=5.3.0 in /usr/local/lib/python3.10/site-packages (from torchvision) (11.1.0)\n",
      "Requirement already satisfied: contourpy>=1.0.1 in /usr/local/lib/python3.10/site-packages (from matplotlib) (1.3.1)\n",
      "Requirement already satisfied: cycler>=0.10 in /usr/local/lib/python3.10/site-packages (from matplotlib) (0.12.1)\n",
      "Requirement already satisfied: fonttools>=4.22.0 in /usr/local/lib/python3.10/site-packages (from matplotlib) (4.57.0)\n",
      "Requirement already satisfied: kiwisolver>=1.3.1 in /usr/local/lib/python3.10/site-packages (from matplotlib) (1.4.8)\n",
      "Requirement already satisfied: packaging>=20.0 in /usr/local/lib/python3.10/site-packages (from matplotlib) (24.2)\n",
      "Requirement already satisfied: pyparsing>=2.3.1 in /usr/local/lib/python3.10/site-packages (from matplotlib) (3.2.3)\n",
      "Requirement already satisfied: python-dateutil>=2.7 in /usr/local/lib/python3.10/site-packages (from matplotlib) (2.9.0.post0)\n",
      "Requirement already satisfied: scipy>=1.6.0 in /usr/local/lib/python3.10/site-packages (from scikit-learn) (1.10.1)\n",
      "Requirement already satisfied: joblib>=1.2.0 in /usr/local/lib/python3.10/site-packages (from scikit-learn) (1.4.2)\n",
      "Requirement already satisfied: threadpoolctl>=3.1.0 in /usr/local/lib/python3.10/site-packages (from scikit-learn) (3.6.0)\n",
      "Requirement already satisfied: pytz>=2020.1 in /usr/local/lib/python3.10/site-packages (from pandas) (2025.2)\n",
      "Requirement already satisfied: tzdata>=2022.1 in /usr/local/lib/python3.10/site-packages (from pandas) (2025.2)\n",
      "Requirement already satisfied: six>=1.5 in /usr/local/lib/python3.10/site-packages (from python-dateutil>=2.7->matplotlib) (1.17.0)\n",
      "Requirement already satisfied: MarkupSafe>=2.0 in /usr/local/lib/python3.10/site-packages (from jinja2->torch) (3.0.2)\n",
      "\u001b[33mWARNING: Running pip as the 'root' user can result in broken permissions and conflicting behaviour with the system package manager, possibly rendering your system unusable. It is recommended to use a virtual environment instead: https://pip.pypa.io/warnings/venv. Use the --root-user-action option if you know what you are doing and want to suppress this warning.\u001b[0m\u001b[33m\n",
      "\u001b[0m"
     ]
    }
   ],
   "source": [
    "!sudo pip3.10 install torch torchvision torchinfo matplotlib scikit-learn pandas numpy==1.23"
   ]
  },
  {
   "cell_type": "code",
   "execution_count": 2,
   "metadata": {
    "id": "zXriOvSsEeok"
   },
   "outputs": [],
   "source": [
    "# Import the necessary libraries\n",
    "import torch\n",
    "import torchvision\n",
    "from torchvision import datasets,transforms,models\n",
    "import torch.nn as nn\n",
    "import torch.nn.functional as F\n",
    "from torch import nn,optim,no_grad\n",
    "from torch.utils.data import DataLoader\n",
    "import torch.optim.lr_scheduler as lr_scheduler\n",
    "from torchinfo import summary\n",
    "\n",
    "import matplotlib.pyplot as plt\n",
    "from sklearn.metrics import classification_report\n",
    "import pandas as pd\n",
    "import numpy as np\n",
    "import pickle\n",
    "import sys\n",
    "import time"
   ]
  },
  {
   "cell_type": "code",
   "execution_count": 3,
   "metadata": {
    "id": "H3qtqu6MEleW"
   },
   "outputs": [
    {
     "name": "stdout",
     "output_type": "stream",
     "text": [
      "Python versoin: (3, 10, 17)\n",
      "PyTorch version: 2.6.0+cu124\n",
      "Device: cuda\n"
     ]
    }
   ],
   "source": [
    "has_mps = torch.backends.mps.is_built()\n",
    "device = \"cuda\" if torch.cuda.is_available() else \"mps\" if has_mps else \"cpu\"\n",
    "print(f\"Python versoin: {sys.version_info.major, sys.version_info.minor, sys.version_info.micro}\")\n",
    "print(f\"PyTorch version: {torch.__version__}\")\n",
    "print(f\"Device: {device}\")"
   ]
  },
  {
   "cell_type": "markdown",
   "metadata": {
    "id": "Dy7AAlDJEqgu"
   },
   "source": [
    "###Dataset and setting\n"
   ]
  },
  {
   "cell_type": "code",
   "execution_count": 4,
   "metadata": {},
   "outputs": [],
   "source": [
    "import os"
   ]
  },
  {
   "cell_type": "code",
   "execution_count": 5,
   "metadata": {},
   "outputs": [
    {
     "name": "stdout",
     "output_type": "stream",
     "text": [
      "ls: cannot access 'COMP7055Project/train/.ipynb_checkpoints': No such file or directory\n",
      "rmdir: failed to remove 'COMP7055Project/train/.ipynb_checkpoints': No such file or directory\n"
     ]
    }
   ],
   "source": [
    "! cd COMP7055Project/train/angry\n",
    "! cd .ipynb_checkpoints\n",
    "! ls COMP7055Project/train/.ipynb_checkpoints\n",
    "! rmdir COMP7055Project/train/.ipynb_checkpoints\n",
    "\n"
   ]
  },
  {
   "cell_type": "code",
   "execution_count": 6,
   "metadata": {
    "id": "UOKatWaHEp5h"
   },
   "outputs": [],
   "source": [
    "# Define data transformations for the training and test sets\n",
    "train_transform = transforms.Compose([\n",
    "     transforms.RandomHorizontalFlip(p=0.5),\n",
    "     transforms.RandomCrop(32, padding=4),\n",
    "    #  transforms.RandomAffine(degrees=(-5, 5), translate=(0.1, 0.1), scale=(0.9, 1.1)),\n",
    "     transforms.ToTensor(), # Convert images to tensors\n",
    "     transforms.Normalize((0.4914, 0.4822, 0.4465), (0.247, 0.243, 0.261))]) # Normalize the image data\n",
    "\n",
    "test_transform = transforms.Compose([\n",
    "     transforms.ToTensor(), # Convert images to tensors\n",
    "     transforms.Normalize((0.4914, 0.4822, 0.4465), (0.247, 0.243, 0.261))]) # Normalize the image data\n",
    "\n",
    "# Create the CIFAR10dataset for the training set with 50,000 images\n",
    "train_set = torchvision.datasets.CIFAR10(root='./data', train=True, download=True, transform=train_transform)\n",
    "\n",
    "# Create the CIFAR10 dataset for the test set with 10,000 images (It is also used as validation set during the training)\n",
    "test_set = torchvision.datasets.CIFAR10(root='./data', train=False, download=True, transform=test_transform)\n",
    "\n",
    "# Define the data loaders for the training, validation, and test sets\n",
    "train_loader = torch.utils.data.DataLoader(train_set, batch_size=32, shuffle=True, num_workers=2)\n",
    "test_loader = torch.utils.data.DataLoader(test_set, batch_size=256, shuffle=False, num_workers=2)\n",
    "\n",
    "# Define the classes for the CIFAR-10 dataset\n",
    "classes = ['plane', 'car', 'bird', 'cat', 'deer', 'dog', 'frog', 'horse', 'ship', 'truck']\n"
   ]
  },
  {
   "cell_type": "code",
   "execution_count": 7,
   "metadata": {
    "id": "z121JMc6Gpqr"
   },
   "outputs": [
    {
     "data": {
      "image/png": "[encoded data removed]",
      "text/plain": [
       "<Figure size 1200x600 with 10 Axes>"
      ]
     },
     "metadata": {},
     "output_type": "display_data"
    }
   ],
   "source": [
    "# Visualize training image for each class\n",
    "sample_images = [train_set.data[np.asarray(train_set.targets) == label][0] for label in range(10)]\n",
    "# show images\n",
    "fig, axes = plt.subplots(2, 5, figsize=(12, 6))\n",
    "i = 0\n",
    "for row in axes:\n",
    "  for axis in row:\n",
    "    axis.set_xticks([])\n",
    "    axis.set_yticks([])\n",
    "    axis.set_xlabel(classes[i], fontsize=15)\n",
    "    axis.imshow(sample_images[i])\n",
    "    i += 1"
   ]
  },
  {
   "cell_type": "code",
   "execution_count": 8,
   "metadata": {},
   "outputs": [],
   "source": [
    "#define VGG version\n",
    "cfg = {\n",
    "    'VGG11': [64, 'M', 128, 'M', 256, 256, 'M', 512, 512, 'M', 512, 512, 'M'],\n",
    "    'VGG13': [64, 64, 'M', 128, 128, 'M', 256, 256, 'M', 512, 512, 'M', 512, 512, 'M'],\n",
    "    'VGG16': [64, 64, 'M', 128, 128, 'M', 256, 256, 256, 'M', 512, 512, 512, 'M', 512, 512, 512, 'M'],\n",
    "    'VGG19': [64, 64, 'M', 128, 128, 'M', 256, 256, 256, 256, 'M', 512, 512, 512, 512, 'M', 512, 512, 512, 512, 'M'],\n",
    "}"
   ]
  },
  {
   "cell_type": "code",
   "execution_count": 9,
   "metadata": {},
   "outputs": [],
   "source": [
    "#define VGG model\n",
    "class VGG(nn.Module):\n",
    "    def __init__(self):\n",
    "        super(VGG, self).__init__()\n",
    "        self.features = self._make_layers()\n",
    "        self.classifier = nn.Linear(512, 10)\n",
    "\n",
    "    def forward(self, x):\n",
    "        out = self.features(x)\n",
    "        out = out.view(out.size(0), -1)\n",
    "        out = self.classifier(out)\n",
    "        return out\n",
    "\n",
    "    def _make_layers(self):\n",
    "        layers = []\n",
    "        in_channels = 3\n",
    "        print(cfg['VGG19'])\n",
    "        for x in cfg['VGG19']:\n",
    "            if x == 'M':\n",
    "                layers += [nn.MaxPool2d(kernel_size=2, stride=2)]\n",
    "            else:\n",
    "                layers += [nn.Conv2d(in_channels, x, kernel_size=3, padding=1),\n",
    "                           nn.BatchNorm2d(x),\n",
    "                           nn.ReLU(inplace=True)]\n",
    "                in_channels = x\n",
    "        layers += [nn.AvgPool2d(kernel_size=1, stride=1)]\n",
    "        return nn.Sequential(*layers)\n",
    "\n",
    "\n",
    "def test():\n",
    "    net = VGG()\n",
    "    x = torch.randn(2,3,32,32)\n",
    "    y = net(x)\n",
    "    print(y.size())\n"
   ]
  },
  {
   "cell_type": "code",
   "execution_count": 43,
   "metadata": {},
   "outputs": [
    {
     "name": "stdout",
     "output_type": "stream",
     "text": [
      "[64, 64, 'M', 128, 128, 'M', 256, 256, 256, 256, 'M', 512, 512, 512, 512, 'M', 512, 512, 512, 512, 'M']\n"
     ]
    }
   ],
   "source": [
    "model = VGG()"
   ]
  },
  {
   "cell_type": "code",
   "execution_count": 44,
   "metadata": {
    "id": "IICEt8EVG950"
   },
   "outputs": [
    {
     "data": {
      "text/plain": [
       "====================================================================================================\n",
       "Layer (type (var_name))                  Input Shape     Output Shape    Param #         Trainable\n",
       "====================================================================================================\n",
       "VGG (VGG)                                [1, 3, 32, 32]  [1, 10]         --              True\n",
       "├─Sequential (features)                  [1, 3, 32, 32]  [1, 512, 1, 1]  --              True\n",
       "│    └─Conv2d (0)                        [1, 3, 32, 32]  [1, 64, 32, 32] 1,792           True\n",
       "│    └─BatchNorm2d (1)                   [1, 64, 32, 32] [1, 64, 32, 32] 128             True\n",
       "│    └─ReLU (2)                          [1, 64, 32, 32] [1, 64, 32, 32] --              --\n",
       "│    └─Conv2d (3)                        [1, 64, 32, 32] [1, 64, 32, 32] 36,928          True\n",
       "│    └─BatchNorm2d (4)                   [1, 64, 32, 32] [1, 64, 32, 32] 128             True\n",
       "│    └─ReLU (5)                          [1, 64, 32, 32] [1, 64, 32, 32] --              --\n",
       "│    └─MaxPool2d (6)                     [1, 64, 32, 32] [1, 64, 16, 16] --              --\n",
       "│    └─Conv2d (7)                        [1, 64, 16, 16] [1, 128, 16, 16] 73,856          True\n",
       "│    └─BatchNorm2d (8)                   [1, 128, 16, 16] [1, 128, 16, 16] 256             True\n",
       "│    └─ReLU (9)                          [1, 128, 16, 16] [1, 128, 16, 16] --              --\n",
       "│    └─Conv2d (10)                       [1, 128, 16, 16] [1, 128, 16, 16] 147,584         True\n",
       "│    └─BatchNorm2d (11)                  [1, 128, 16, 16] [1, 128, 16, 16] 256             True\n",
       "│    └─ReLU (12)                         [1, 128, 16, 16] [1, 128, 16, 16] --              --\n",
       "│    └─MaxPool2d (13)                    [1, 128, 16, 16] [1, 128, 8, 8]  --              --\n",
       "│    └─Conv2d (14)                       [1, 128, 8, 8]  [1, 256, 8, 8]  295,168         True\n",
       "│    └─BatchNorm2d (15)                  [1, 256, 8, 8]  [1, 256, 8, 8]  512             True\n",
       "│    └─ReLU (16)                         [1, 256, 8, 8]  [1, 256, 8, 8]  --              --\n",
       "│    └─Conv2d (17)                       [1, 256, 8, 8]  [1, 256, 8, 8]  590,080         True\n",
       "│    └─BatchNorm2d (18)                  [1, 256, 8, 8]  [1, 256, 8, 8]  512             True\n",
       "│    └─ReLU (19)                         [1, 256, 8, 8]  [1, 256, 8, 8]  --              --\n",
       "│    └─Conv2d (20)                       [1, 256, 8, 8]  [1, 256, 8, 8]  590,080         True\n",
       "│    └─BatchNorm2d (21)                  [1, 256, 8, 8]  [1, 256, 8, 8]  512             True\n",
       "│    └─ReLU (22)                         [1, 256, 8, 8]  [1, 256, 8, 8]  --              --\n",
       "│    └─Conv2d (23)                       [1, 256, 8, 8]  [1, 256, 8, 8]  590,080         True\n",
       "│    └─BatchNorm2d (24)                  [1, 256, 8, 8]  [1, 256, 8, 8]  512             True\n",
       "│    └─ReLU (25)                         [1, 256, 8, 8]  [1, 256, 8, 8]  --              --\n",
       "│    └─MaxPool2d (26)                    [1, 256, 8, 8]  [1, 256, 4, 4]  --              --\n",
       "│    └─Conv2d (27)                       [1, 256, 4, 4]  [1, 512, 4, 4]  1,180,160       True\n",
       "│    └─BatchNorm2d (28)                  [1, 512, 4, 4]  [1, 512, 4, 4]  1,024           True\n",
       "│    └─ReLU (29)                         [1, 512, 4, 4]  [1, 512, 4, 4]  --              --\n",
       "│    └─Conv2d (30)                       [1, 512, 4, 4]  [1, 512, 4, 4]  2,359,808       True\n",
       "│    └─BatchNorm2d (31)                  [1, 512, 4, 4]  [1, 512, 4, 4]  1,024           True\n",
       "│    └─ReLU (32)                         [1, 512, 4, 4]  [1, 512, 4, 4]  --              --\n",
       "│    └─Conv2d (33)                       [1, 512, 4, 4]  [1, 512, 4, 4]  2,359,808       True\n",
       "│    └─BatchNorm2d (34)                  [1, 512, 4, 4]  [1, 512, 4, 4]  1,024           True\n",
       "│    └─ReLU (35)                         [1, 512, 4, 4]  [1, 512, 4, 4]  --              --\n",
       "│    └─Conv2d (36)                       [1, 512, 4, 4]  [1, 512, 4, 4]  2,359,808       True\n",
       "│    └─BatchNorm2d (37)                  [1, 512, 4, 4]  [1, 512, 4, 4]  1,024           True\n",
       "│    └─ReLU (38)                         [1, 512, 4, 4]  [1, 512, 4, 4]  --              --\n",
       "│    └─MaxPool2d (39)                    [1, 512, 4, 4]  [1, 512, 2, 2]  --              --\n",
       "│    └─Conv2d (40)                       [1, 512, 2, 2]  [1, 512, 2, 2]  2,359,808       True\n",
       "│    └─BatchNorm2d (41)                  [1, 512, 2, 2]  [1, 512, 2, 2]  1,024           True\n",
       "│    └─ReLU (42)                         [1, 512, 2, 2]  [1, 512, 2, 2]  --              --\n",
       "│    └─Conv2d (43)                       [1, 512, 2, 2]  [1, 512, 2, 2]  2,359,808       True\n",
       "│    └─BatchNorm2d (44)                  [1, 512, 2, 2]  [1, 512, 2, 2]  1,024           True\n",
       "│    └─ReLU (45)                         [1, 512, 2, 2]  [1, 512, 2, 2]  --              --\n",
       "│    └─Conv2d (46)                       [1, 512, 2, 2]  [1, 512, 2, 2]  2,359,808       True\n",
       "│    └─BatchNorm2d (47)                  [1, 512, 2, 2]  [1, 512, 2, 2]  1,024           True\n",
       "│    └─ReLU (48)                         [1, 512, 2, 2]  [1, 512, 2, 2]  --              --\n",
       "│    └─Conv2d (49)                       [1, 512, 2, 2]  [1, 512, 2, 2]  2,359,808       True\n",
       "│    └─BatchNorm2d (50)                  [1, 512, 2, 2]  [1, 512, 2, 2]  1,024           True\n",
       "│    └─ReLU (51)                         [1, 512, 2, 2]  [1, 512, 2, 2]  --              --\n",
       "│    └─MaxPool2d (52)                    [1, 512, 2, 2]  [1, 512, 1, 1]  --              --\n",
       "│    └─AvgPool2d (53)                    [1, 512, 1, 1]  [1, 512, 1, 1]  --              --\n",
       "├─Linear (classifier)                    [1, 512]        [1, 10]         5,130           True\n",
       "====================================================================================================\n",
       "Total params: 20,040,522\n",
       "Trainable params: 20,040,522\n",
       "Non-trainable params: 0\n",
       "Total mult-adds (M): 398.45\n",
       "====================================================================================================\n",
       "Input size (MB): 0.01\n",
       "Forward/backward pass size (MB): 4.85\n",
       "Params size (MB): 80.16\n",
       "Estimated Total Size (MB): 85.02\n",
       "===================================================================================================="
      ]
     },
     "execution_count": 44,
     "metadata": {},
     "output_type": "execute_result"
    }
   ],
   "source": [
    "summary(model=model, input_size=(1, 3, 32, 32), col_width=15,\n",
    "        col_names=['input_size', 'output_size', 'num_params', 'trainable'],\n",
    "        row_settings=['var_names'], verbose=0)"
   ]
  },
  {
   "cell_type": "code",
   "execution_count": 45,
   "metadata": {
    "id": "_Z4WyCKRHAY-"
   },
   "outputs": [
    {
     "name": "stdout",
     "output_type": "stream",
     "text": [
      "mkdir: cannot create directory ‘Models_VGG4.0’: File exists\n"
     ]
    }
   ],
   "source": [
    "!mkdir Models_VGG4.0"
   ]
  },
  {
   "cell_type": "code",
   "execution_count": 46,
   "metadata": {
    "id": "WEyty_hrHD2V"
   },
   "outputs": [],
   "source": [
    "# Specify Loss/Cost function\n",
    "criterion = nn.CrossEntropyLoss()\n",
    "\n",
    "# loss and optimization functions\n",
    "lr=0.001\n",
    "momentum = 0.9\n",
    "\n",
    "# optimizer selection (SGD, Adam, RMSprop, NAdam)\n",
    "optimizer = torch.optim.Adam(model.parameters(), lr=lr)\n",
    "# optimizer = torch.optim.SGD(model.parameters(), lr=lr, momentum=momentum)\n",
    "#optimizer = torch.optim.RMSprop(model.parameters(), lr=lr, momentum=momentum)\n",
    "#optimizer = torch.optim.NAdam(model.parameters(), lr=lr)\n"
   ]
  },
  {
   "cell_type": "code",
   "execution_count": 47,
   "metadata": {
    "id": "s90bjnWcHGDh",
    "scrolled": true
   },
   "outputs": [
    {
     "name": "stdout",
     "output_type": "stream",
     "text": [
      "Training was started.\n",
      "\n",
      "EPOCH: 1 Train Loss: 5.883 Test Loss: 0.640 Train Accuracy: 25.96% Test Accuracy: 35.70% Time: 23.93s \n",
      "EPOCH: 2 Train Loss: 4.227 Test Loss: 0.463 Train Accuracy: 48.90% Test Accuracy: 58.66% Time: 24.06s \n",
      "EPOCH: 3 Train Loss: 3.294 Test Loss: 0.362 Train Accuracy: 62.71% Test Accuracy: 67.46% Time: 23.94s \n",
      "EPOCH: 4 Train Loss: 2.818 Test Loss: 0.306 Train Accuracy: 68.79% Test Accuracy: 73.90% Time: 24.21s \n",
      "EPOCH: 5 Train Loss: 2.442 Test Loss: 0.286 Train Accuracy: 73.95% Test Accuracy: 76.01% Time: 23.98s \n",
      "EPOCH: 6 Train Loss: 2.178 Test Loss: 0.283 Train Accuracy: 77.07% Test Accuracy: 77.58% Time: 24.01s \n",
      "EPOCH: 7 Train Loss: 1.933 Test Loss: 0.229 Train Accuracy: 79.94% Test Accuracy: 81.38% Time: 24.01s \n",
      "EPOCH: 8 Train Loss: 1.766 Test Loss: 0.232 Train Accuracy: 81.85% Test Accuracy: 82.08% Time: 24.01s \n",
      "EPOCH: 9 Train Loss: 1.595 Test Loss: 0.201 Train Accuracy: 83.77% Test Accuracy: 84.36% Time: 24.05s \n",
      "EPOCH: 10 Train Loss: 1.467 Test Loss: 0.197 Train Accuracy: 84.96% Test Accuracy: 84.58% Time: 24.07s \n",
      "EPOCH: 11 Train Loss: 1.345 Test Loss: 0.194 Train Accuracy: 86.13% Test Accuracy: 84.73% Time: 24.04s \n",
      "EPOCH: 12 Train Loss: 1.248 Test Loss: 0.170 Train Accuracy: 87.18% Test Accuracy: 86.76% Time: 24.33s \n",
      "EPOCH: 13 Train Loss: 1.162 Test Loss: 0.174 Train Accuracy: 88.19% Test Accuracy: 86.33% Time: 24.07s \n",
      "EPOCH: 14 Train Loss: 1.069 Test Loss: 0.170 Train Accuracy: 88.94% Test Accuracy: 86.52% Time: 24.10s \n",
      "EPOCH: 15 Train Loss: 1.020 Test Loss: 0.166 Train Accuracy: 89.50% Test Accuracy: 87.31% Time: 24.21s \n",
      "EPOCH: 16 Train Loss: 0.929 Test Loss: 0.163 Train Accuracy: 90.41% Test Accuracy: 87.56% Time: 24.13s \n",
      "EPOCH: 17 Train Loss: 0.883 Test Loss: 0.163 Train Accuracy: 91.01% Test Accuracy: 87.71% Time: 24.09s \n",
      "EPOCH: 18 Train Loss: 0.834 Test Loss: 0.162 Train Accuracy: 91.48% Test Accuracy: 87.22% Time: 24.42s \n",
      "EPOCH: 19 Train Loss: 0.790 Test Loss: 0.152 Train Accuracy: 91.85% Test Accuracy: 87.93% Time: 24.13s \n",
      "EPOCH: 20 Train Loss: 0.735 Test Loss: 0.146 Train Accuracy: 92.35% Test Accuracy: 89.04% Time: 24.08s \n",
      "EPOCH: 21 Train Loss: 0.695 Test Loss: 0.148 Train Accuracy: 92.78% Test Accuracy: 88.94% Time: 24.12s \n",
      "EPOCH: 22 Train Loss: 0.667 Test Loss: 0.148 Train Accuracy: 93.17% Test Accuracy: 89.21% Time: 24.07s \n",
      "EPOCH: 23 Train Loss: 0.619 Test Loss: 0.142 Train Accuracy: 93.66% Test Accuracy: 89.27% Time: 24.10s \n",
      "EPOCH: 24 Train Loss: 0.595 Test Loss: 0.142 Train Accuracy: 93.84% Test Accuracy: 89.49% Time: 24.11s \n",
      "EPOCH: 25 Train Loss: 0.560 Test Loss: 0.152 Train Accuracy: 94.20% Test Accuracy: 88.68% Time: 24.12s \n",
      "EPOCH: 26 Train Loss: 0.539 Test Loss: 0.141 Train Accuracy: 94.54% Test Accuracy: 89.34% Time: 24.10s \n",
      "EPOCH: 27 Train Loss: 0.516 Test Loss: 0.151 Train Accuracy: 94.71% Test Accuracy: 88.88% Time: 24.10s \n",
      "EPOCH: 28 Train Loss: 0.490 Test Loss: 0.151 Train Accuracy: 94.95% Test Accuracy: 88.90% Time: 24.08s \n",
      "EPOCH: 29 Train Loss: 0.464 Test Loss: 0.152 Train Accuracy: 95.30% Test Accuracy: 88.84% Time: 24.21s \n",
      "EPOCH: 30 Train Loss: 0.462 Test Loss: 0.146 Train Accuracy: 95.32% Test Accuracy: 89.89% Time: 24.07s \n",
      "EPOCH: 31 Train Loss: 0.422 Test Loss: 0.148 Train Accuracy: 95.72% Test Accuracy: 89.46% Time: 24.08s \n",
      "EPOCH: 32 Train Loss: 0.408 Test Loss: 0.168 Train Accuracy: 95.85% Test Accuracy: 89.01% Time: 24.26s \n",
      "EPOCH: 33 Train Loss: 0.389 Test Loss: 0.154 Train Accuracy: 96.01% Test Accuracy: 89.10% Time: 24.11s \n",
      "EPOCH: 34 Train Loss: 0.388 Test Loss: 0.145 Train Accuracy: 96.03% Test Accuracy: 90.11% Time: 24.24s \n",
      "EPOCH: 35 Train Loss: 0.373 Test Loss: 0.145 Train Accuracy: 96.12% Test Accuracy: 89.90% Time: 24.09s \n",
      "EPOCH: 36 Train Loss: 0.342 Test Loss: 0.148 Train Accuracy: 96.57% Test Accuracy: 89.52% Time: 24.09s \n",
      "EPOCH: 37 Train Loss: 0.327 Test Loss: 0.151 Train Accuracy: 96.59% Test Accuracy: 89.84% Time: 24.10s \n",
      "EPOCH: 38 Train Loss: 0.327 Test Loss: 0.154 Train Accuracy: 96.71% Test Accuracy: 89.78% Time: 24.16s \n",
      "EPOCH: 39 Train Loss: 0.315 Test Loss: 0.146 Train Accuracy: 96.73% Test Accuracy: 90.06% Time: 24.18s \n",
      "EPOCH: 40 Train Loss: 0.295 Test Loss: 0.149 Train Accuracy: 96.87% Test Accuracy: 90.35% Time: 24.21s \n",
      "EPOCH: 41 Train Loss: 0.295 Test Loss: 0.152 Train Accuracy: 97.05% Test Accuracy: 89.88% Time: 24.05s \n",
      "EPOCH: 42 Train Loss: 0.277 Test Loss: 0.143 Train Accuracy: 97.17% Test Accuracy: 89.79% Time: 24.09s \n",
      "EPOCH: 43 Train Loss: 0.274 Test Loss: 0.146 Train Accuracy: 97.24% Test Accuracy: 90.43% Time: 24.13s \n",
      "EPOCH: 44 Train Loss: 0.255 Test Loss: 0.166 Train Accuracy: 97.34% Test Accuracy: 90.12% Time: 24.32s \n",
      "EPOCH: 45 Train Loss: 0.257 Test Loss: 0.166 Train Accuracy: 97.35% Test Accuracy: 89.64% Time: 24.10s \n",
      "EPOCH: 46 Train Loss: 0.250 Test Loss: 0.158 Train Accuracy: 97.46% Test Accuracy: 89.89% Time: 24.07s \n",
      "EPOCH: 47 Train Loss: 0.235 Test Loss: 0.150 Train Accuracy: 97.66% Test Accuracy: 90.26% Time: 24.13s \n",
      "EPOCH: 48 Train Loss: 0.229 Test Loss: 0.155 Train Accuracy: 97.62% Test Accuracy: 90.10% Time: 24.07s \n",
      "EPOCH: 49 Train Loss: 0.223 Test Loss: 0.160 Train Accuracy: 97.73% Test Accuracy: 89.65% Time: 24.20s \n",
      "EPOCH: 50 Train Loss: 0.220 Test Loss: 0.167 Train Accuracy: 97.77% Test Accuracy: 89.98% Time: 24.11s \n"
     ]
    }
   ],
   "source": [
    "EPOCHS = 50\n",
    "\n",
    "loss_hist, acc_hist = [], []  # Lists to store training loss and accuracy\n",
    "loss_hist_test, acc_hist_test = [], []  # Lists to store validation loss and accuracy\n",
    "\n",
    "model.to(device)  # Move the model to the specified device (e.g., GPU)\n",
    "\n",
    "print(\"Training was started.\\n\")\n",
    "\n",
    "for epoch in range(1, EPOCHS + 1):\n",
    "    time_ckpt = time.time()\n",
    "    print(\"EPOCH:\", epoch, end=\" \")\n",
    "    running_loss = 0.0\n",
    "    correct = 0\n",
    "\n",
    "    # Training loop\n",
    "    for data in train_loader:\n",
    "        batch, labels = data\n",
    "\n",
    "        batch, labels = batch.to(device), labels.to(device)\n",
    "\n",
    "        optimizer.zero_grad()  # Clear the gradients\n",
    "        outputs = model(batch)  # Forward pass  \n",
    "        loss = criterion(outputs, labels)  # Compute the loss\n",
    "        loss.backward()  # Backward pass (compute gradients)\n",
    "        optimizer.step()  # Update the model's parameters\n",
    "\n",
    "        # Compute training statistics\n",
    "        _, predicted = torch.max(outputs, 1)\n",
    "        correct += (predicted == labels).sum().item()\n",
    "        running_loss += loss.item()\n",
    "\n",
    "    avg_loss = running_loss / len(train_set)  # Average training loss for the epoch\n",
    "    avg_acc = correct / len(train_set)  # Average training accuracy for the epoch\n",
    "    loss_hist.append(avg_loss)\n",
    "    acc_hist.append(avg_acc)\n",
    "\n",
    "    # Validation statistics\n",
    "    model.eval()  # Set the model to evaluation mode\n",
    "    with torch.no_grad():\n",
    "        loss_test = 0.0\n",
    "        correct_test = 0\n",
    "\n",
    "        # Validation loop\n",
    "        for data in test_loader:\n",
    "            batch, labels = data\n",
    "            batch, labels = batch.to(device), labels.to(device)\n",
    "            outputs = model(batch)\n",
    "            loss = criterion(outputs, labels)\n",
    "            _, predicted = torch.max(outputs, 1)\n",
    "            correct_test += (predicted == labels).sum().item()\n",
    "            loss_test += loss.item()\n",
    "\n",
    "        avg_loss_test = loss_test / len(test_set)  # Average validation loss for the epoch\n",
    "        avg_acc_test = correct_test / len(test_set)  # Average validation accuracy for the epoch\n",
    "        loss_hist_test.append(avg_loss_test)\n",
    "        acc_hist_test.append(avg_acc_test)\n",
    "\n",
    "    model.train()  # Set the model back to training mode\n",
    "#     scheduler.step(avg_loss_val) # Check the scheduler for updating the learning rate\n",
    "\n",
    "    # Save the model at the end of each epoch\n",
    "    if avg_acc_test >= max(acc_hist_test) and epoch > 30:\n",
    "        with open(\"Models_VGG4.0/Image_Classification_{}.pth\".format(epoch), \"wb\") as f:\n",
    "            model.eval()\n",
    "            pickle.dump(model, f)\n",
    "            model.train()\n",
    "\n",
    "    print(\"Train Loss: {:.3f}\".format(avg_loss * 100), end=\" \")\n",
    "    print(\"Test Loss: {:.3f}\".format(avg_loss_test * 100), end=\" \")\n",
    "    print(\"Train Accuracy: {:.2f}%\".format(avg_acc * 100), end=\" \")\n",
    "    print(\"Test Accuracy: {:.2f}%\".format(avg_acc_test * 100), end=\" \")\n",
    "    print(\"Time: {:.2f}s\".format(time.time() - time_ckpt), end=\" \\n\")\n"
   ]
  },
  {
   "cell_type": "markdown",
   "metadata": {
    "id": "4g4yS2ofH6UL"
   },
   "source": [
    "### Test the Trained Network"
   ]
  },
  {
   "cell_type": "code",
   "execution_count": 48,
   "metadata": {
    "id": "bNIIr5OuHIfQ"
   },
   "outputs": [
    {
     "data": {
      "image/png": "[encoded data removed]",
      "text/plain": [
       "<Figure size 2000x700 with 2 Axes>"
      ]
     },
     "metadata": {},
     "output_type": "display_data"
    }
   ],
   "source": [
    "plots=[(loss_hist,loss_hist_test),(acc_hist,acc_hist_test)]\n",
    "plt_labels=[(\"Training Loss\",\"Test Loss\"),(\"Training Accuracy\",\"Test Accuracy\")]\n",
    "plt_titles=[\"Loss\",\"Accuracy\"]\n",
    "plt.figure(figsize=(20,7))\n",
    "for i in range(0,2):\n",
    "    ax=plt.subplot(1,2,i+1)\n",
    "    ax.plot(plots[i][0],label=plt_labels[i][0])\n",
    "    ax.plot(plots[i][1],label=plt_labels[i][1])\n",
    "    ax.set_title(plt_titles[i])\n",
    "    ax.legend()"
   ]
  },
  {
   "cell_type": "markdown",
   "metadata": {
    "id": "A50kyqT7H2HV"
   },
   "source": [
    "### Recalculate Test Set Accuracy"
   ]
  },
  {
   "cell_type": "code",
   "execution_count": 49,
   "metadata": {
    "id": "-RhTW1jhHZKd"
   },
   "outputs": [
    {
     "name": "stdout",
     "output_type": "stream",
     "text": [
      "Best accuracy on test set: 90.43%\n",
      "Best epoch: 43\n"
     ]
    }
   ],
   "source": [
    "# Selecting the best model\n",
    "best_acc = max(acc_hist_test)\n",
    "best_epoch = acc_hist_test.index(best_acc)+1\n",
    "\n",
    "print(\"Best accuracy on test set: {:.2f}%\".format(best_acc*100))\n",
    "print(\"Best epoch: {}\".format(best_epoch))\n",
    "\n",
    "# Load the best model\n",
    "with open(f\"Models_VGG4.0/Image_Classification_{best_epoch}.pth\",\"rb\") as f:\n",
    "    loaded_model=pickle.load(f)"
   ]
  },
  {
   "cell_type": "markdown",
   "metadata": {
    "id": "xyXtAwCbHwZU"
   },
   "source": [
    "### Display the Test Set Accuracy"
   ]
  },
  {
   "cell_type": "code",
   "execution_count": 50,
   "metadata": {
    "id": "7ZiCTo05HbHw"
   },
   "outputs": [],
   "source": [
    "pred_vec = []\n",
    "label_vec = []\n",
    "correct = 0\n",
    "test_loss = 0.0\n",
    "avg_test_loss = 0.0\n",
    "model = loaded_model\n",
    "model.to(device)\n",
    "\n",
    "with torch.no_grad():\n",
    "    for data in test_loader:\n",
    "        batch, labels = data\n",
    "        batch, labels = batch.to(device), labels.to(device)\n",
    "        outputs = model(batch)\n",
    "        loss = criterion(outputs, labels)\n",
    "        _, predicted = torch.max(outputs, 1)\n",
    "        correct += (predicted == labels).sum().item()\n",
    "        test_loss += loss.item()\n",
    "        pred_vec.extend(predicted.cpu().numpy())  # Convert tensor to numpy array\n",
    "        label_vec.extend(labels.cpu().numpy())  # Convert tensor to numpy array\n",
    "\n",
    "    avg_test_loss = test_loss / len(test_set)\n",
    "\n",
    "pred_vec = np.array(pred_vec)\n",
    "label_vec = np.array(label_vec)\n"
   ]
  },
  {
   "cell_type": "code",
   "execution_count": 51,
   "metadata": {
    "id": "rH2tq9s_HcqN"
   },
   "outputs": [
    {
     "name": "stdout",
     "output_type": "stream",
     "text": [
      "Test Loss: 0.0014614913046360016\n",
      "Test Accuracy on the 10000 test images: 90.43%\n"
     ]
    }
   ],
   "source": [
    "print(F\"Test Loss: {avg_test_loss}\")\n",
    "print(F\"Test Accuracy on the {len(test_set)} test images: {(100 * correct / len(test_set))}%\")"
   ]
  },
  {
   "cell_type": "markdown",
   "metadata": {
    "id": "DEwZQasTHs0a"
   },
   "source": [
    "### Display the Confusion Matrix"
   ]
  },
  {
   "cell_type": "code",
   "execution_count": 52,
   "metadata": {
    "id": "h-No4Ch4Heou"
   },
   "outputs": [
    {
     "name": "stdout",
     "output_type": "stream",
     "text": [
      "[0 1 2 3 4 5 6 7 8 9]\n",
      "Confusion Matrix\n"
     ]
    },
    {
     "data": {
      "text/html": [
       "<div>\n",
       "<style scoped>\n",
       "    .dataframe tbody tr th:only-of-type {\n",
       "        vertical-align: middle;\n",
       "    }\n",
       "\n",
       "    .dataframe tbody tr th {\n",
       "        vertical-align: top;\n",
       "    }\n",
       "\n",
       "    .dataframe thead th {\n",
       "        text-align: right;\n",
       "    }\n",
       "</style>\n",
       "<table border=\"1\" class=\"dataframe\">\n",
       "  <thead>\n",
       "    <tr style=\"text-align: right;\">\n",
       "      <th></th>\n",
       "      <th>plane</th>\n",
       "      <th>car</th>\n",
       "      <th>bird</th>\n",
       "      <th>cat</th>\n",
       "      <th>deer</th>\n",
       "      <th>dog</th>\n",
       "      <th>frog</th>\n",
       "      <th>horse</th>\n",
       "      <th>ship</th>\n",
       "      <th>truck</th>\n",
       "    </tr>\n",
       "  </thead>\n",
       "  <tbody>\n",
       "    <tr>\n",
       "      <th>plane</th>\n",
       "      <td>937</td>\n",
       "      <td>4</td>\n",
       "      <td>17</td>\n",
       "      <td>15</td>\n",
       "      <td>6</td>\n",
       "      <td>1</td>\n",
       "      <td>0</td>\n",
       "      <td>3</td>\n",
       "      <td>8</td>\n",
       "      <td>9</td>\n",
       "    </tr>\n",
       "    <tr>\n",
       "      <th>car</th>\n",
       "      <td>5</td>\n",
       "      <td>954</td>\n",
       "      <td>0</td>\n",
       "      <td>5</td>\n",
       "      <td>1</td>\n",
       "      <td>1</td>\n",
       "      <td>1</td>\n",
       "      <td>0</td>\n",
       "      <td>4</td>\n",
       "      <td>29</td>\n",
       "    </tr>\n",
       "    <tr>\n",
       "      <th>bird</th>\n",
       "      <td>19</td>\n",
       "      <td>0</td>\n",
       "      <td>887</td>\n",
       "      <td>22</td>\n",
       "      <td>28</td>\n",
       "      <td>16</td>\n",
       "      <td>19</td>\n",
       "      <td>7</td>\n",
       "      <td>2</td>\n",
       "      <td>0</td>\n",
       "    </tr>\n",
       "    <tr>\n",
       "      <th>cat</th>\n",
       "      <td>10</td>\n",
       "      <td>2</td>\n",
       "      <td>26</td>\n",
       "      <td>829</td>\n",
       "      <td>22</td>\n",
       "      <td>72</td>\n",
       "      <td>13</td>\n",
       "      <td>17</td>\n",
       "      <td>2</td>\n",
       "      <td>7</td>\n",
       "    </tr>\n",
       "    <tr>\n",
       "      <th>deer</th>\n",
       "      <td>4</td>\n",
       "      <td>0</td>\n",
       "      <td>23</td>\n",
       "      <td>26</td>\n",
       "      <td>911</td>\n",
       "      <td>6</td>\n",
       "      <td>15</td>\n",
       "      <td>15</td>\n",
       "      <td>0</td>\n",
       "      <td>0</td>\n",
       "    </tr>\n",
       "    <tr>\n",
       "      <th>dog</th>\n",
       "      <td>1</td>\n",
       "      <td>0</td>\n",
       "      <td>14</td>\n",
       "      <td>105</td>\n",
       "      <td>18</td>\n",
       "      <td>830</td>\n",
       "      <td>2</td>\n",
       "      <td>27</td>\n",
       "      <td>0</td>\n",
       "      <td>3</td>\n",
       "    </tr>\n",
       "    <tr>\n",
       "      <th>frog</th>\n",
       "      <td>5</td>\n",
       "      <td>0</td>\n",
       "      <td>24</td>\n",
       "      <td>29</td>\n",
       "      <td>10</td>\n",
       "      <td>2</td>\n",
       "      <td>926</td>\n",
       "      <td>2</td>\n",
       "      <td>1</td>\n",
       "      <td>1</td>\n",
       "    </tr>\n",
       "    <tr>\n",
       "      <th>horse</th>\n",
       "      <td>9</td>\n",
       "      <td>0</td>\n",
       "      <td>4</td>\n",
       "      <td>17</td>\n",
       "      <td>24</td>\n",
       "      <td>10</td>\n",
       "      <td>0</td>\n",
       "      <td>933</td>\n",
       "      <td>0</td>\n",
       "      <td>3</td>\n",
       "    </tr>\n",
       "    <tr>\n",
       "      <th>ship</th>\n",
       "      <td>57</td>\n",
       "      <td>12</td>\n",
       "      <td>8</td>\n",
       "      <td>4</td>\n",
       "      <td>0</td>\n",
       "      <td>0</td>\n",
       "      <td>3</td>\n",
       "      <td>0</td>\n",
       "      <td>901</td>\n",
       "      <td>15</td>\n",
       "    </tr>\n",
       "    <tr>\n",
       "      <th>truck</th>\n",
       "      <td>17</td>\n",
       "      <td>26</td>\n",
       "      <td>0</td>\n",
       "      <td>8</td>\n",
       "      <td>0</td>\n",
       "      <td>1</td>\n",
       "      <td>0</td>\n",
       "      <td>2</td>\n",
       "      <td>11</td>\n",
       "      <td>935</td>\n",
       "    </tr>\n",
       "  </tbody>\n",
       "</table>\n",
       "</div>"
      ],
      "text/plain": [
       "       plane  car  bird  cat  deer  dog  frog  horse  ship  truck\n",
       "plane    937    4    17   15     6    1     0      3     8      9\n",
       "car        5  954     0    5     1    1     1      0     4     29\n",
       "bird      19    0   887   22    28   16    19      7     2      0\n",
       "cat       10    2    26  829    22   72    13     17     2      7\n",
       "deer       4    0    23   26   911    6    15     15     0      0\n",
       "dog        1    0    14  105    18  830     2     27     0      3\n",
       "frog       5    0    24   29    10    2   926      2     1      1\n",
       "horse      9    0     4   17    24   10     0    933     0      3\n",
       "ship      57   12     8    4     0    0     3      0   901     15\n",
       "truck     17   26     0    8     0    1     0      2    11    935"
      ]
     },
     "execution_count": 52,
     "metadata": {},
     "output_type": "execute_result"
    }
   ],
   "source": [
    "# Create confusion matrix\n",
    "from sklearn.metrics import confusion_matrix\n",
    "confusion_mat = confusion_matrix(label_vec, pred_vec)\n",
    "# Convert confusion matrix to pandas DataFrame\n",
    "labels = np.unique(label_vec)\n",
    "print(labels)\n",
    "confusion_df = pd.DataFrame(confusion_mat, index=classes, columns=classes)\n",
    "print(\"Confusion Matrix\")\n",
    "confusion_df"
   ]
  },
  {
   "cell_type": "markdown",
   "metadata": {
    "id": "_1np7o5GHgGi"
   },
   "source": [
    "### Compute theyje Accuracy, F1-score,OPrecision,Recall,Support"
   ]
  },
  {
   "cell_type": "code",
   "execution_count": 53,
   "metadata": {
    "id": "0FuUGvPTHfqH"
   },
   "outputs": [
    {
     "data": {
      "text/html": [
       "<div>\n",
       "<style scoped>\n",
       "    .dataframe tbody tr th:only-of-type {\n",
       "        vertical-align: middle;\n",
       "    }\n",
       "\n",
       "    .dataframe tbody tr th {\n",
       "        vertical-align: top;\n",
       "    }\n",
       "\n",
       "    .dataframe thead th {\n",
       "        text-align: right;\n",
       "    }\n",
       "</style>\n",
       "<table border=\"1\" class=\"dataframe\">\n",
       "  <thead>\n",
       "    <tr style=\"text-align: right;\">\n",
       "      <th></th>\n",
       "      <th>Label</th>\n",
       "      <th>f1-score</th>\n",
       "      <th>precision</th>\n",
       "      <th>recall</th>\n",
       "      <th>support</th>\n",
       "    </tr>\n",
       "  </thead>\n",
       "  <tbody>\n",
       "    <tr>\n",
       "      <th>0</th>\n",
       "      <td>plane</td>\n",
       "      <td>0.907946</td>\n",
       "      <td>0.93700</td>\n",
       "      <td>0.880639</td>\n",
       "      <td>1064.0000</td>\n",
       "    </tr>\n",
       "    <tr>\n",
       "      <th>1</th>\n",
       "      <td>car</td>\n",
       "      <td>0.954955</td>\n",
       "      <td>0.95400</td>\n",
       "      <td>0.955912</td>\n",
       "      <td>998.0000</td>\n",
       "    </tr>\n",
       "    <tr>\n",
       "      <th>2</th>\n",
       "      <td>bird</td>\n",
       "      <td>0.885671</td>\n",
       "      <td>0.88700</td>\n",
       "      <td>0.884347</td>\n",
       "      <td>1003.0000</td>\n",
       "    </tr>\n",
       "    <tr>\n",
       "      <th>3</th>\n",
       "      <td>cat</td>\n",
       "      <td>0.804854</td>\n",
       "      <td>0.82900</td>\n",
       "      <td>0.782075</td>\n",
       "      <td>1060.0000</td>\n",
       "    </tr>\n",
       "    <tr>\n",
       "      <th>4</th>\n",
       "      <td>deer</td>\n",
       "      <td>0.901980</td>\n",
       "      <td>0.91100</td>\n",
       "      <td>0.893137</td>\n",
       "      <td>1020.0000</td>\n",
       "    </tr>\n",
       "    <tr>\n",
       "      <th>5</th>\n",
       "      <td>dog</td>\n",
       "      <td>0.856111</td>\n",
       "      <td>0.83000</td>\n",
       "      <td>0.883919</td>\n",
       "      <td>939.0000</td>\n",
       "    </tr>\n",
       "    <tr>\n",
       "      <th>6</th>\n",
       "      <td>frog</td>\n",
       "      <td>0.935826</td>\n",
       "      <td>0.92600</td>\n",
       "      <td>0.945863</td>\n",
       "      <td>979.0000</td>\n",
       "    </tr>\n",
       "    <tr>\n",
       "      <th>7</th>\n",
       "      <td>horse</td>\n",
       "      <td>0.930209</td>\n",
       "      <td>0.93300</td>\n",
       "      <td>0.927435</td>\n",
       "      <td>1006.0000</td>\n",
       "    </tr>\n",
       "    <tr>\n",
       "      <th>8</th>\n",
       "      <td>ship</td>\n",
       "      <td>0.934163</td>\n",
       "      <td>0.90100</td>\n",
       "      <td>0.969860</td>\n",
       "      <td>929.0000</td>\n",
       "    </tr>\n",
       "    <tr>\n",
       "      <th>9</th>\n",
       "      <td>truck</td>\n",
       "      <td>0.934066</td>\n",
       "      <td>0.93500</td>\n",
       "      <td>0.933134</td>\n",
       "      <td>1002.0000</td>\n",
       "    </tr>\n",
       "    <tr>\n",
       "      <th>accuracy</th>\n",
       "      <td></td>\n",
       "      <td>0.904300</td>\n",
       "      <td>0.90430</td>\n",
       "      <td>0.904300</td>\n",
       "      <td>0.9043</td>\n",
       "    </tr>\n",
       "    <tr>\n",
       "      <th>macro avg</th>\n",
       "      <td></td>\n",
       "      <td>0.904578</td>\n",
       "      <td>0.90430</td>\n",
       "      <td>0.905632</td>\n",
       "      <td>10000.0000</td>\n",
       "    </tr>\n",
       "    <tr>\n",
       "      <th>weighted avg</th>\n",
       "      <td></td>\n",
       "      <td>0.904022</td>\n",
       "      <td>0.90451</td>\n",
       "      <td>0.904300</td>\n",
       "      <td>10000.0000</td>\n",
       "    </tr>\n",
       "  </tbody>\n",
       "</table>\n",
       "</div>"
      ],
      "text/plain": [
       "              Label  f1-score  precision    recall     support\n",
       "0             plane  0.907946    0.93700  0.880639   1064.0000\n",
       "1               car  0.954955    0.95400  0.955912    998.0000\n",
       "2              bird  0.885671    0.88700  0.884347   1003.0000\n",
       "3               cat  0.804854    0.82900  0.782075   1060.0000\n",
       "4              deer  0.901980    0.91100  0.893137   1020.0000\n",
       "5               dog  0.856111    0.83000  0.883919    939.0000\n",
       "6              frog  0.935826    0.92600  0.945863    979.0000\n",
       "7             horse  0.930209    0.93300  0.927435   1006.0000\n",
       "8              ship  0.934163    0.90100  0.969860    929.0000\n",
       "9             truck  0.934066    0.93500  0.933134   1002.0000\n",
       "accuracy             0.904300    0.90430  0.904300      0.9043\n",
       "macro avg            0.904578    0.90430  0.905632  10000.0000\n",
       "weighted avg         0.904022    0.90451  0.904300  10000.0000"
      ]
     },
     "execution_count": 53,
     "metadata": {},
     "output_type": "execute_result"
    }
   ],
   "source": [
    "# Create a report to show the f1-score, precision, recall\n",
    "from sklearn.metrics import classification_report\n",
    "\n",
    "report = pd.DataFrame.from_dict(classification_report(pred_vec,label_vec,output_dict=True)).T\n",
    "report['Label']=[classes[int(x)] if x.isdigit() else \" \" for x in report.index]\n",
    "report=report[['Label','f1-score','precision','recall','support']]\n",
    "report"
   ]
  },
  {
   "cell_type": "code",
   "execution_count": null,
   "metadata": {},
   "outputs": [],
   "source": []
  },
  {
   "cell_type": "code",
   "execution_count": null,
   "metadata": {},
   "outputs": [],
   "source": []
  }
 ],
 "metadata": {
  "colab": {
   "provenance": []
  },
  "kernelspec": {
   "display_name": "Python 3 (ipykernel)",
   "language": "python",
   "name": "python3"
  },
  "language_info": {
   "codemirror_mode": {
    "name": "ipython",
    "version": 3
   },
   "file_extension": ".py",
   "mimetype": "text/x-python",
   "name": "python",
   "nbconvert_exporter": "python",
   "pygments_lexer": "ipython3",
   "version": "3.10.17"
  }
 },
 "nbformat": 4,
 "nbformat_minor": 4
}
